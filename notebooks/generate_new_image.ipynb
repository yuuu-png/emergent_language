{
 "cells": [
  {
   "cell_type": "code",
   "execution_count": 1,
   "metadata": {},
   "outputs": [],
   "source": [
    "from pathlib import Path\n",
    "import torch.nn.functional as F\n",
    "import matplotlib.pyplot as plt\n",
    "import wandb\n",
    "\n",
    "import sys\n",
    "\n",
    "sys.path.append(\"/work\")\n",
    "from src.data.mnist import MNISTDataModule\n",
    "from src.wandb.generate.train import WandbModule\n",
    "from src.utils import torch_fix_seed\n",
    "\n",
    "torch_fix_seed(42)"
   ]
  },
  {
   "cell_type": "code",
   "execution_count": 2,
   "metadata": {},
   "outputs": [
    {
     "name": "stderr",
     "output_type": "stream",
     "text": [
      "Failed to detect the name of this notebook, you can set it manually with the WANDB_NOTEBOOK_NAME environment variable to enable code saving.\n"
     ]
    },
    {
     "name": "stderr",
     "output_type": "stream",
     "text": [
      "\u001b[34m\u001b[1mwandb\u001b[0m: Currently logged in as: \u001b[33mishiyama-k\u001b[0m. Use \u001b[1m`wandb login --relogin`\u001b[0m to force relogin\n"
     ]
    },
    {
     "data": {
      "text/html": [
       "wandb version 0.16.1 is available!  To upgrade, please run:\n",
       " $ pip install wandb --upgrade"
      ],
      "text/plain": [
       "<IPython.core.display.HTML object>"
      ]
     },
     "metadata": {},
     "output_type": "display_data"
    },
    {
     "data": {
      "text/html": [
       "Tracking run with wandb version 0.16.0"
      ],
      "text/plain": [
       "<IPython.core.display.HTML object>"
      ]
     },
     "metadata": {},
     "output_type": "display_data"
    },
    {
     "data": {
      "text/html": [
       "Run data is saved locally in <code>/work/notebooks/wandb/run-20240106_110837-7a5rjmx4</code>"
      ],
      "text/plain": [
       "<IPython.core.display.HTML object>"
      ]
     },
     "metadata": {},
     "output_type": "display_data"
    },
    {
     "data": {
      "text/html": [
       "Syncing run <strong><a href='https://wandb.ai/ishiyama-k/local_dev_run/runs/7a5rjmx4' target=\"_blank\">chocolate-firebrand-138</a></strong> to <a href='https://wandb.ai/ishiyama-k/local_dev_run' target=\"_blank\">Weights & Biases</a> (<a href='https://wandb.me/run' target=\"_blank\">docs</a>)<br/>"
      ],
      "text/plain": [
       "<IPython.core.display.HTML object>"
      ]
     },
     "metadata": {},
     "output_type": "display_data"
    },
    {
     "data": {
      "text/html": [
       " View project at <a href='https://wandb.ai/ishiyama-k/local_dev_run' target=\"_blank\">https://wandb.ai/ishiyama-k/local_dev_run</a>"
      ],
      "text/plain": [
       "<IPython.core.display.HTML object>"
      ]
     },
     "metadata": {},
     "output_type": "display_data"
    },
    {
     "data": {
      "text/html": [
       " View run at <a href='https://wandb.ai/ishiyama-k/local_dev_run/runs/7a5rjmx4' target=\"_blank\">https://wandb.ai/ishiyama-k/local_dev_run/runs/7a5rjmx4</a>"
      ],
      "text/plain": [
       "<IPython.core.display.HTML object>"
      ]
     },
     "metadata": {},
     "output_type": "display_data"
    },
    {
     "name": "stderr",
     "output_type": "stream",
     "text": [
      "\u001b[34m\u001b[1mwandb\u001b[0m:   1 of 1 files downloaded.  \n"
     ]
    },
    {
     "name": "stdout",
     "output_type": "stream",
     "text": [
      "WandbModule(\n",
      "  (model): GenerationAgents(\n",
      "    (speaker): Speaker(\n",
      "      (extractor): Monotone28(\n",
      "        (cnn): Sequential(\n",
      "          (0): Conv2d(1, 16, kernel_size=(5, 5), stride=(1, 1), padding=(2, 2))\n",
      "          (1): ReLU()\n",
      "          (2): MaxPool2d(kernel_size=2, stride=2, padding=0, dilation=1, ceil_mode=False)\n",
      "          (3): Conv2d(16, 32, kernel_size=(5, 5), stride=(1, 1), padding=(2, 2))\n",
      "          (4): ReLU()\n",
      "          (5): MaxPool2d(kernel_size=2, stride=2, padding=0, dilation=1, ceil_mode=False)\n",
      "        )\n",
      "      )\n",
      "      (transformer): TransformerDecoder(\n",
      "        (layers): ModuleList(\n",
      "          (0-2): 3 x TransformerDecoderLayer(\n",
      "            (self_attn): MultiheadAttention(\n",
      "              (out_proj): NonDynamicallyQuantizableLinear(in_features=32, out_features=32, bias=True)\n",
      "            )\n",
      "            (multihead_attn): MultiheadAttention(\n",
      "              (out_proj): NonDynamicallyQuantizableLinear(in_features=32, out_features=32, bias=True)\n",
      "            )\n",
      "            (linear1): Linear(in_features=32, out_features=128, bias=True)\n",
      "            (dropout): Dropout(p=0.1, inplace=False)\n",
      "            (linear2): Linear(in_features=128, out_features=32, bias=True)\n",
      "            (norm1): LayerNorm((32,), eps=1e-05, elementwise_affine=True)\n",
      "            (norm2): LayerNorm((32,), eps=1e-05, elementwise_affine=True)\n",
      "            (norm3): LayerNorm((32,), eps=1e-05, elementwise_affine=True)\n",
      "            (dropout1): Dropout(p=0.1, inplace=False)\n",
      "            (dropout2): Dropout(p=0.1, inplace=False)\n",
      "            (dropout3): Dropout(p=0.1, inplace=False)\n",
      "          )\n",
      "        )\n",
      "      )\n",
      "      (token_embedding): Linear(in_features=11, out_features=32, bias=True)\n",
      "      (token_classifier): Linear(in_features=32, out_features=10, bias=True)\n",
      "    )\n",
      "    (listener): Listener(\n",
      "      (transformer): TransformerEncoder(\n",
      "        (layers): ModuleList(\n",
      "          (0-2): 3 x TransformerEncoderLayer(\n",
      "            (self_attn): MultiheadAttention(\n",
      "              (out_proj): NonDynamicallyQuantizableLinear(in_features=100, out_features=100, bias=True)\n",
      "            )\n",
      "            (linear1): Linear(in_features=100, out_features=400, bias=True)\n",
      "            (dropout): Dropout(p=0.1, inplace=False)\n",
      "            (linear2): Linear(in_features=400, out_features=100, bias=True)\n",
      "            (norm1): LayerNorm((100,), eps=1e-05, elementwise_affine=True)\n",
      "            (norm2): LayerNorm((100,), eps=1e-05, elementwise_affine=True)\n",
      "            (dropout1): Dropout(p=0.1, inplace=False)\n",
      "            (dropout2): Dropout(p=0.1, inplace=False)\n",
      "          )\n",
      "        )\n",
      "      )\n",
      "      (token_embedding): Linear(in_features=11, out_features=100, bias=True)\n",
      "    )\n",
      "    (image_generator): Monotone28(\n",
      "      (convt1): Sequential(\n",
      "        (0): ConvTranspose2d(100, 128, kernel_size=(3, 3), stride=(1, 1), bias=False)\n",
      "        (1): BatchNorm2d(128, eps=1e-05, momentum=0.1, affine=True, track_running_stats=True)\n",
      "        (2): ReLU(inplace=True)\n",
      "      )\n",
      "      (dropout1): Dropout2d(p=0.1, inplace=False)\n",
      "      (convt2): Sequential(\n",
      "        (0): ConvTranspose2d(128, 64, kernel_size=(3, 3), stride=(2, 2), bias=False)\n",
      "        (1): BatchNorm2d(64, eps=1e-05, momentum=0.1, affine=True, track_running_stats=True)\n",
      "        (2): ReLU(inplace=True)\n",
      "      )\n",
      "      (dropout2): Dropout2d(p=0.1, inplace=False)\n",
      "      (convt3): Sequential(\n",
      "        (0): ConvTranspose2d(64, 32, kernel_size=(4, 4), stride=(2, 2), padding=(1, 1), bias=False)\n",
      "        (1): BatchNorm2d(32, eps=1e-05, momentum=0.1, affine=True, track_running_stats=True)\n",
      "        (2): ReLU(inplace=True)\n",
      "      )\n",
      "      (dropout3): Dropout2d(p=0.1, inplace=False)\n",
      "      (convt4): Sequential(\n",
      "        (0): ConvTranspose2d(32, 1, kernel_size=(4, 4), stride=(2, 2), padding=(1, 1))\n",
      "        (1): Tanh()\n",
      "      )\n",
      "    )\n",
      "  )\n",
      "  (accuracy): MulticlassAccuracy()\n",
      ")\n"
     ]
    },
    {
     "name": "stderr",
     "output_type": "stream",
     "text": [
      "/home/user/.local/lib/python3.10/site-packages/torch/nn/modules/transformer.py:282: UserWarning: enable_nested_tensor is True, but self.use_nested_tensor is False because encoder_layer.self_attn.batch_first was not True(use batch_first for better inference performance)\n",
      "  warnings.warn(f\"enable_nested_tensor is True, but self.use_nested_tensor is False because {why_not_sparsity_fast_path}\")\n"
     ]
    }
   ],
   "source": [
    "wandb.init(project=\"local_dev_run\")\n",
    "artifact = wandb.use_artifact(\"ishiyama-k/model-registry/Generate MNIST:latest\")\n",
    "artifact_dir = artifact.download()\n",
    "checkpoint = Path(artifact_dir) / \"model.ckpt\"\n",
    "module = WandbModule.load_from_checkpoint(checkpoint_path=checkpoint)\n",
    "module = module.to(\"cuda\")\n",
    "module.eval()\n",
    "print(module)"
   ]
  },
  {
   "cell_type": "markdown",
   "metadata": {},
   "source": []
  },
  {
   "cell_type": "code",
   "execution_count": 3,
   "metadata": {},
   "outputs": [],
   "source": [
    "dm = MNISTDataModule()\n",
    "dm.prepare_data()\n",
    "dm.setup(stage=\"test\")"
   ]
  },
  {
   "cell_type": "code",
   "execution_count": 35,
   "metadata": {},
   "outputs": [
    {
     "data": {
      "image/png": "[encoded data removed]",
      "text/plain": [
       "<Figure size 600x300 with 2 Axes>"
      ]
     },
     "metadata": {},
     "output_type": "display_data"
    },
    {
     "name": "stdout",
     "output_type": "stream",
     "text": [
      "tokens: tensor([9, 2, 3, 2, 4, 6, 4, 8, 0, 9], device='cuda:0')\n"
     ]
    }
   ],
   "source": [
    "idx = 1\n",
    "batch_idx = 1\n",
    "\n",
    "current_batch_idx = 0\n",
    "for batch in dm.test_dataloader():\n",
    "    if current_batch_idx < batch_idx:\n",
    "        current_batch_idx += 1\n",
    "        continue\n",
    "\n",
    "    X, Y = batch\n",
    "    X, Y = X.to(\"cuda\"), Y.to(\"cuda\")\n",
    "    X_hat, speaker_output, tokens_prob = module.model(X)\n",
    "    x = X[idx].squeeze().cpu().numpy()\n",
    "    x_hat = X_hat[idx].squeeze().detach().cpu().numpy()\n",
    "\n",
    "    plt.figure(figsize=(6, 3))\n",
    "    plt.subplot(1, 2, 1)\n",
    "    plt.imshow(x, cmap=\"gray\")\n",
    "    plt.axis(\"off\")\n",
    "    plt.title(f\"Original: {Y[idx].item()}\")\n",
    "\n",
    "    plt.subplot(1, 2, 2)\n",
    "    plt.imshow(x_hat, cmap=\"gray\")\n",
    "    plt.axis(\"off\")\n",
    "    plt.title(f\"generated\")\n",
    "    plt.show()\n",
    "\n",
    "    tokens = speaker_output[:,idx,:].argmax(dim=-1)\n",
    "    print(\"tokens:\", tokens)\n",
    "    break"
   ]
  },
  {
   "cell_type": "code",
   "execution_count": 36,
   "metadata": {},
   "outputs": [
    {
     "data": {
      "image/png": "[encoded data removed]",
      "text/plain": [
       "<Figure size 900x300 with 3 Axes>"
      ]
     },
     "metadata": {},
     "output_type": "display_data"
    }
   ],
   "source": [
    "modified_tokens = tokens.clone()\n",
    "modified_tokens[1] = 0\n",
    "\n",
    "vocab_size = module.model.speaker.vocab_size -1\n",
    "max_len = module.model.speaker.max_token_len\n",
    "one_hot = F.one_hot(modified_tokens, num_classes=vocab_size)\n",
    "one_hot = one_hot.view(max_len, 1, vocab_size)\n",
    "new_X_hat = module.model.listener(one_hot)\n",
    "new_X_hat = module.model.image_generator(new_X_hat.unsqueeze(-1).unsqueeze(-1))\n",
    "new_X_hat = new_X_hat.squeeze().detach().cpu().numpy()\n",
    "\n",
    "\n",
    "plt.figure(figsize=(9, 3))\n",
    "plt.subplot(1, 3, 1)\n",
    "plt.imshow(x, cmap=\"gray\")\n",
    "plt.axis(\"off\")\n",
    "plt.title(f\"Original: {Y[0].item()}\")\n",
    "\n",
    "plt.subplot(1, 3, 2)\n",
    "plt.imshow(x_hat, cmap=\"gray\")\n",
    "plt.axis(\"off\")\n",
    "plt.title(f\"generated\")\n",
    "\n",
    "plt.subplot(1, 3, 3)\n",
    "plt.imshow(new_X_hat, cmap=\"gray\")\n",
    "plt.axis(\"off\")\n",
    "plt.title(f\"generated newly\")\n",
    "plt.show()\n"
   ]
  }
 ],
 "metadata": {
  "kernelspec": {
   "display_name": "Python 3",
   "language": "python",
   "name": "python3"
  },
  "language_info": {
   "codemirror_mode": {
    "name": "ipython",
    "version": 3
   },
   "file_extension": ".py",
   "mimetype": "text/x-python",
   "name": "python",
   "nbconvert_exporter": "python",
   "pygments_lexer": "ipython3",
   "version": "3.10.12"
  }
 },
 "nbformat": 4,
 "nbformat_minor": 2
}
